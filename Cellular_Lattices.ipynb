{
 "cells": [
  {
   "cell_type": "markdown",
   "metadata": {},
   "source": [
    "[Open In Colab](https://colab.research.google.com/github/joelbenjohn/Tesselations/blob/master/Cellular_Lattices.ipynb)"
   ]
  },
  {
   "cell_type": "markdown",
   "metadata": {},
   "source": [
    "## Clone Github and import packages"
   ]
  },
  {
   "cell_type": "code",
   "execution_count": 6,
   "metadata": {},
   "outputs": [],
   "source": [
    "!rm -rf /content/pyCUFSM\n",
    "!git clone https://github.com/joelbenjohn/Tesselations\n",
    "import sys\n",
    "sys.path.insert(1, '/content/Tesselations')\n",
    "import Laguerre\n",
    "import Tesselations\n",
    "import numpy\n",
    "from numpy import linalg as la\n",
    "import matplotlib.pyplot as plt\n",
    "import ipywidgets\n",
    "import MainPrePro\n",
    "import Plattices"
   ]
  },
  {
   "cell_type": "markdown",
   "metadata": {},
   "source": [
    "## Making Lattices using Seed Locations\n",
    "The figure shows the voronoi diagram with black points as seeds. \n",
    "Notice how the lattice can be manipulated with seed movement"
   ]
  },
  {
   "cell_type": "markdown",
   "metadata": {},
   "source": [
    "![SegmentLocal](interactive_voronoi1.gif \"segment\")"
   ]
  },
  {
   "cell_type": "markdown",
   "metadata": {},
   "source": [
    "## Generate Lattices"
   ]
  },
  {
   "cell_type": "markdown",
   "metadata": {},
   "source": [
    "#### Choose Domain Size and Number of Seeds required"
   ]
  },
  {
   "cell_type": "code",
   "execution_count": 7,
   "metadata": {},
   "outputs": [],
   "source": [
    "Side = 100; Seeds = 400"
   ]
  },
  {
   "cell_type": "markdown",
   "metadata": {},
   "source": [
    "### Select Tesselation\n",
    "#### Function returns seeds locations and corresponding weight\n",
    "-Tip: Type Tesselations and the available lattices will pop up"
   ]
  },
  {
   "cell_type": "code",
   "execution_count": 8,
   "metadata": {},
   "outputs": [],
   "source": [
    "S, R = Tesselations.semi2(Seeds, Side, 1)"
   ]
  },
  {
   "cell_type": "markdown",
   "metadata": {},
   "source": [
    "### Compute Laguerre Tesselations\n",
    "#### Function returns element edge connectivity and node coordinates\n",
    "Laguerre Tesselations are similar to voronoi tesselations except that each seed has an extra weight parameter which gives us more control over the lattice"
   ]
  },
  {
   "cell_type": "code",
   "execution_count": null,
   "metadata": {},
   "outputs": [],
   "source": [
    "# Get Delaunay Triangulation\n",
    "tri_list, V = Laguerre.get_power_triangulation(S, R)\n",
    "# Compute the Voronoi cells\n",
    "voronoi_cell_map = Laguerre.get_voronoi_cells(S, V, tri_list)\n",
    "# Display the result\n",
    "edge_map = Laguerre.display(S, R, tri_list, voronoi_cell_map, 100)\n",
    "elem_con, node_coord = Laguerre.cleanV1(100, V, edge_map)"
   ]
  },
  {
   "cell_type": "markdown",
   "metadata": {},
   "source": [
    "### Plot the Tesselation"
   ]
  },
  {
   "cell_type": "code",
   "execution_count": 9,
   "metadata": {},
   "outputs": [
    {
     "data": {
      "image/png": "[encoded data removed]",
      "text/plain": [
       "<Figure size 432x288 with 1 Axes>"
      ]
     },
     "metadata": {
      "needs_background": "light"
     },
     "output_type": "display_data"
    }
   ],
   "source": [
    "for i in range(len(elem_con)):\n",
    "      plt.plot([node_coord[int(elem_con[i, 0]), 0], node_coord[int(elem_con[i, 1]), 0]], [node_coord[int(elem_con[i, 0]), 1], node_coord[int(elem_con[i, 1]), 1]], 'b', linewidth = 1)\n",
    "plt.xlim(0, Side)\n",
    "plt.ylim(0, Side)\n",
    "plt.show()"
   ]
  },
  {
   "cell_type": "markdown",
   "metadata": {},
   "source": [
    "## Sample Lattices for SVD"
   ]
  },
  {
   "cell_type": "code",
   "execution_count": null,
   "metadata": {},
   "outputs": [],
   "source": [
    "x = MainPrePro.MainPrePro()\n",
    "page = x.run()\n",
    "display(page)"
   ]
  },
  {
   "cell_type": "markdown",
   "metadata": {},
   "source": [
    "### Plot selected lattices"
   ]
  },
  {
   "cell_type": "code",
   "execution_count": null,
   "metadata": {},
   "outputs": [],
   "source": [
    "Plattices.Plattice()"
   ]
  }
 ],
 "metadata": {
  "kernelspec": {
   "display_name": "Python 3",
   "language": "python",
   "name": "python3"
  },
  "language_info": {
   "codemirror_mode": {
    "name": "ipython",
    "version": 3
   },
   "file_extension": ".py",
   "mimetype": "text/x-python",
   "name": "python",
   "nbconvert_exporter": "python",
   "pygments_lexer": "ipython3",
   "version": "3.7.4"
  }
 },
 "nbformat": 4,
 "nbformat_minor": 2
}
