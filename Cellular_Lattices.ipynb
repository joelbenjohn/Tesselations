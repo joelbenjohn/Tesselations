{
 "cells": [
  {
   "cell_type": "markdown",
   "metadata": {},
   "source": [
    "[Open In Colab](https://colab.research.google.com/github/joelbenjohn/Tesselations/blob/master/Cellular_Lattices.ipynb)"
   ]
  },
  {
   "cell_type": "code",
   "execution_count": null,
   "metadata": {},
   "outputs": [],
   "source": [
    "!rm -rf /content/pyCUFSM\n",
    "!git clone https://github.com/joelbenjohn/Tesselations\n",
    "import sys\n",
    "sys.path.insert(1, '/content/Tesselations')\n",
    "import Laguerre\n",
    "import Tesselations\n",
    "import numpy\n",
    "from numpy import linalg as la\n",
    "import matplotlib.pyplot as plt\n",
    "import ipywidgets\n",
    "import MainPrePro"
   ]
  },
  {
   "cell_type": "markdown",
   "metadata": {},
   "source": [
    "### Generate Lattices"
   ]
  },
  {
   "cell_type": "code",
   "execution_count": null,
   "metadata": {},
   "outputs": [],
   "source": [
    "Side = 100; Seeds = 400\n",
    "# Get Seeds and weight\n",
    "S, R = Tesselations.semi2(Side, Seeds, 1)\n",
    "# Get Delaunay Triangulation\n",
    "tri_list, V = Laguerre.get_power_triangulation(S, R)\n",
    "# Compute the Voronoi cells\n",
    "voronoi_cell_map = Laguerre.get_voronoi_cells(S, V, tri_list)\n",
    "# Display the result\n",
    "edge_map = Laguerre.display(S, R, tri_list, voronoi_cell_map, 100)\n",
    "elem_con, node_coord = Laguerre.cleanV1(100, V, edge_map)\n",
    "for i in range(len(elem_con)):\n",
    "      plt.plot([node_coord[int(elem_con[i, 0]), 0], node_coord[int(elem_con[i, 1]), 0]], [node_coord[int(elem_con[i, 0]), 1], node_coord[int(elem_con[i, 1]), 1]], 'b', linewidth = 1)\n",
    "plt.xlim(0, Side)\n",
    "plt.ylim(0, Side)\n",
    "# plt.aspect(1)"
   ]
  },
  {
   "cell_type": "markdown",
   "metadata": {},
   "source": [
    "### Sample Lattices for SVD"
   ]
  },
  {
   "cell_type": "code",
   "execution_count": null,
   "metadata": {},
   "outputs": [],
   "source": [
    "x = MainPrePro.MainPrePro()\n",
    "page = x.run()\n",
    "display(page)"
   ]
  }
 ],
 "metadata": {
  "kernelspec": {
   "display_name": "Python 3",
   "language": "python",
   "name": "python3"
  },
  "language_info": {
   "codemirror_mode": {
    "name": "ipython",
    "version": 3
   },
   "file_extension": ".py",
   "mimetype": "text/x-python",
   "name": "python",
   "nbconvert_exporter": "python",
   "pygments_lexer": "ipython3",
   "version": "3.7.4"
  }
 },
 "nbformat": 4,
 "nbformat_minor": 2
}
